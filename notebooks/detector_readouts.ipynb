{
 "cells": [
  {
   "cell_type": "markdown",
   "id": "45b8164a-9b92-4923-bad3-a9f5b5c03195",
   "metadata": {},
   "source": [
    "# Testing detector keys and info"
   ]
  },
  {
   "cell_type": "code",
   "execution_count": null,
   "id": "04832835-a0ed-4adb-bf2c-66931132f833",
   "metadata": {},
   "outputs": [],
   "source": [
    "import os\n",
    "import numpy as np\n",
    "import psana as ps\n",
    "import matplotlib.pyplot as plt\n",
    "from matplotlib.colors import LogNorm\n",
    "from lv17analysis import epix, lv17data, detectors\n",
    "\n",
    "# run = 296\n",
    "run = 457\n",
    "\n",
    "detector_info = detectors.get_detector_info(run)\n",
    "detector_keys = detectors.get_detector_keys(run)\n"
   ]
  },
  {
   "cell_type": "markdown",
   "id": "6bf61421-f3ea-4af3-b0b0-2266a7529825",
   "metadata": {},
   "source": [
    "### Print all keys and entries for a given run"
   ]
  },
  {
   "cell_type": "code",
   "execution_count": null,
   "id": "acd202e4-cd3c-4a45-8f6b-368c22231b31",
   "metadata": {},
   "outputs": [],
   "source": [
    "print(\"detector info for run {}:\".format(run))\n",
    "print(detector_info)\n",
    "print(\"\\ndetector keys for run {}:\".format(run))\n",
    "print(detector_keys)\n",
    "print(\"\\n\")\n",
    "\n",
    "for det_key in detector_keys:\n",
    "    print(\"Key: {}\".format(det_key))\n",
    "    print(\"Entries: {}\\n\".format(detector_info[det_key]))\n"
   ]
  },
  {
   "cell_type": "markdown",
   "id": "5ac5b5dc-7a1b-4870-a81a-52b74743c52f",
   "metadata": {},
   "source": [
    "### Print all non-empty data entries"
   ]
  },
  {
   "cell_type": "code",
   "execution_count": null,
   "id": "ae7c3f70-f4b0-4e8a-b958-9294314b5775",
   "metadata": {},
   "outputs": [],
   "source": [
    "for det_key in detector_keys:\n",
    "    entries = detector_info[det_key]\n",
    "    \n",
    "    data_entry_str = [\".\".join(det_key)+\".\"+entry+\"(evt)\" for entry in entries]\n",
    "\n",
    "    if len(data_entry_str) == 0:\n",
    "        continue\n",
    "    \n",
    "    for entry_str in data_entry_str:\n",
    "        print(entry_str)"
   ]
  },
  {
   "cell_type": "markdown",
   "id": "5c767034-0919-4e20-adb6-23333488af60",
   "metadata": {},
   "source": [
    "# Testing getter functions\n",
    "### First load a run and evt"
   ]
  },
  {
   "cell_type": "code",
   "execution_count": null,
   "id": "d169f532-429e-4d9d-872d-77fb63f32bdc",
   "metadata": {},
   "outputs": [],
   "source": [
    "import numpy as np\n",
    "import psana as ps\n",
    "import matplotlib.pyplot as plt\n",
    "from matplotlib.colors import LogNorm\n",
    "from lv17analysis import epix, lv17data, detectors\n",
    "\n",
    "\n",
    "# run = 296\n",
    "run = 457\n",
    "\n",
    "ds = ps.DataSource(exp=lv17data.exp, run=run, detectors=detectors.detector_list)\n",
    "\n",
    "ds_run = next(ds.runs())\n",
    "detectors_list = detectors.get_detector_active(ds_run)\n",
    "datasets_list = [detectors.detector_dict[det_str] for det_str in detectors_list]\n",
    "\n",
    "evt = next(ds_run.events())\n"
   ]
  },
  {
   "cell_type": "markdown",
   "id": "38811d59-0502-4f17-953b-cce420b5a0b0",
   "metadata": {},
   "source": [
    "### Test automated data loading for all existing detectors for a given run"
   ]
  },
  {
   "cell_type": "code",
   "execution_count": null,
   "id": "026be4c7-dbde-4dac-a901-aa3e4e6d0ff2",
   "metadata": {},
   "outputs": [],
   "source": [
    "print('active detectors: {}\\n'.format(detectors_list))\n",
    "print('active data sets: {}\\n'.format(datasets_list))\n",
    "print('\\nthe following code was executed:\\n')\n",
    "\n",
    "for data_str in datasets_list:\n",
    "    exec_str = \"{} = detectors.get_{}(ds_run, evt)\".format(data_str, data_str)\n",
    "    exec(exec_str)\n",
    "    print(exec_str)"
   ]
  },
  {
   "cell_type": "markdown",
   "id": "2540a24d-a3dc-4b0f-b5e1-8e015542c1ff",
   "metadata": {},
   "source": [
    "### Verify dataset content"
   ]
  },
  {
   "cell_type": "code",
   "execution_count": null,
   "id": "86307c74-7ebd-4546-a518-f5b57a104d15",
   "metadata": {},
   "outputs": [],
   "source": [
    "for data_str in datasets_list:\n",
    "    print(\"{}:\\nshape = {}\\n{}\\n\\n\".format(data_str, np.shape(eval(data_str)), eval(data_str)))\n",
    "    # print(\"evt_codes:\\n{}\\n\".format(evt_codes))"
   ]
  }
 ],
 "metadata": {
  "kernelspec": {
   "display_name": "LCLS-II py3",
   "language": "python",
   "name": "ana2-current"
  },
  "language_info": {
   "codemirror_mode": {
    "name": "ipython",
    "version": 3
   },
   "file_extension": ".py",
   "mimetype": "text/x-python",
   "name": "python",
   "nbconvert_exporter": "python",
   "pygments_lexer": "ipython3",
   "version": "3.7.12"
  }
 },
 "nbformat": 4,
 "nbformat_minor": 5
}
