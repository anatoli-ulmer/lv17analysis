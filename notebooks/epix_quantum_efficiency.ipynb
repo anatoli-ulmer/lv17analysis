{
 "cells": [
  {
   "cell_type": "code",
   "execution_count": null,
   "id": "08b7612e-501f-4653-828f-2fd10b485bcd",
   "metadata": {},
   "outputs": [],
   "source": [
    "'''\n",
    "Notebook for testing quantum efficiency calibration for the epix100 detector.\n",
    "\n",
    "Anatoli Ulmer, 2022\n",
    "'''\n",
    "from lv17analysis import epix, lv17data\n",
    "import matplotlib.pyplot as plt\n",
    "import numpy as np\n",
    "\n",
    "photon_energy_ev = [920, 1000]\n",
    "quantum_efficiency = epix.quantum_efficiency(photon_energy_ev)\n",
    "\n",
    "if np.ndim(photon_energy_ev) == 0:\n",
    "    print(\"QE({:.1f}eV) = {:.3f}\".format(photon_energy_ev, quantum_efficiency))\n",
    "else:\n",
    "    for i, ev in enumerate(photon_energy_ev):\n",
    "        print(\"QE({:.1f}eV) = {:.3f}\".format(ev, quantum_efficiency[i]))\n",
    "\n",
    "ev, qe = epix.read_quantum_efficiency_csv()\n",
    "\n",
    "photon_energy_ev = lv17data.energy_elog_ev\n",
    "quantum_efficiency = epix.quantum_efficiency(np.sort(photon_energy_ev))\n",
    "\n",
    "plt.figure(figsize=(10,5))\n",
    "plt.plot(ev, qe, '--', alpha=.8, label='calibration curve')\n",
    "plt.plot(photon_energy_ev, quantum_efficiency, 'r.', label='lv1720 energies')\n",
    "plt.xlabel(\"photon energy / eV\")\n",
    "plt.ylabel(\"epix100 quantum efficiency\")\n",
    "plt.xlim(600, 1400)\n",
    "plt.ylim(0,.6)\n",
    "plt.grid(color='0.8', linestyle='dashed')\n",
    "plt.legend()"
   ]
  }
 ],
 "metadata": {
  "kernelspec": {
   "display_name": "LCLS-II py3",
   "language": "python",
   "name": "ana2-current"
  },
  "language_info": {
   "codemirror_mode": {
    "name": "ipython",
    "version": 3
   },
   "file_extension": ".py",
   "mimetype": "text/x-python",
   "name": "python",
   "nbconvert_exporter": "python",
   "pygments_lexer": "ipython3",
   "version": "3.7.12"
  }
 },
 "nbformat": 4,
 "nbformat_minor": 5
}
