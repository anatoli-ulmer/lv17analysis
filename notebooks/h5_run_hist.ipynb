{
 "cells": [
  {
   "cell_type": "code",
   "execution_count": null,
   "id": "f892dd3e-5137-4a75-a95c-b3d2ed0d92e4",
   "metadata": {},
   "outputs": [],
   "source": [
    "import h5py\n",
    "import matplotlib.pyplot as plt\n",
    "import matplotlib.colors as colors\n",
    "import numpy as np\n",
    "from lv17analysis import lv17data\n",
    "from os import path, makedirs"
   ]
  },
  {
   "cell_type": "markdown",
   "id": "439957e9-b51a-4054-b299-bb1085dcee07",
   "metadata": {},
   "source": [
    "## Helper functions for easy readout and plotting"
   ]
  },
  {
   "cell_type": "code",
   "execution_count": null,
   "id": "d922be03-3625-43a6-ac9d-0b0fba325f23",
   "metadata": {},
   "outputs": [],
   "source": [
    "\n",
    "def golden_figsize(fwidth=8):\n",
    "    golden_ratio = 1.618034\n",
    "    fheight = fwidth/golden_ratio\n",
    "    return (fwidth, fheight)\n",
    "\n",
    "\n",
    "def read_data(run):\n",
    "    data_dir = '/reg/data/ana01/tmo/tmolv1720/hdf5/smalldata/'\n",
    "    data_fname = 'r{:03d}_epix.h5'.format(run)\n",
    "\n",
    "    data_keys = ['epix_lit', 'epix_sum', 'gmd', 'photon_energy',\n",
    "                'source_delay', 'source_on', 'source_temp',\n",
    "                'timestamp', 'tof_abs_sum', 'tof_sum', 'xgmd']\n",
    "    data = {}\n",
    "    with h5py.File(data_dir + data_fname, 'r') as f:\n",
    "        for key in data_keys:\n",
    "            data[key] = np.copy(f[key])\n",
    "    data['run'] = run\n",
    "    return data\n",
    "\n",
    "\n",
    "def data_filter(data, source='on',\n",
    "                gmd_min=0.0, gmd_max=np.inf,\n",
    "                xgmd_min=0.0, xgmd_max=np.inf):\n",
    "    source_on = data['source_on'] == True\n",
    "    source_filt = np.array(source_on if source=='on' else ~source_on)\n",
    "    gmd_filt = np.array(data['gmd'] >= 0) & \\\n",
    "        np.array(data['gmd'] <= np.inf)\n",
    "    xgmd_filt = np.array(data['xgmd'] >= 0) & \\\n",
    "        np.array(data['xgmd'] <= np.inf)\n",
    "    return source_filt & gmd_filt & xgmd_filt\n",
    "\n",
    "\n",
    "def plot_data(data, dkey='epix_lit', bins=100, norm=None,\n",
    "              figsize=(8,5), ptype='plot', yscale='linear'):\n",
    "    dfilt = data_filter(data)\n",
    "\n",
    "    if norm is None:\n",
    "        plotdata = data[dkey]\n",
    "    else:\n",
    "        plotdata = data[dkey] / data[norm]\n",
    "\n",
    "    fig = plt.figure(figsize=figsize)\n",
    "    if ptype == 'plot':\n",
    "        plt.plot(plotdata[dfilt], label='source on')\n",
    "        plt.plot(plotdata[~dfilt], label='source off')\n",
    "    elif ptype == 'hist':\n",
    "        plt.hist(plotdata[dfilt], bins=100, label='source on', alpha=0.7)\n",
    "        plt.hist(plotdata[~dfilt], bins=100, label='source off', alpha=0.7)\n",
    "    plt.yscale(yscale)\n",
    "    plt.legend(title='run {:03d}, {}'.format(data['run'], dkey))\n",
    "    return fig\n",
    "\n",
    "\n",
    "def save_plot(fig, save_name,\n",
    "               save_dir='/reg/d/psdm/tmo/tmolv1720/results/run_hist/'):\n",
    "    makedirs(save_dir, exist_ok=True)\n",
    "    fname = path.join(save_dir, save_name)\n",
    "    plt.savefig(fname)\n",
    "\n",
    "\n",
    "def plot_and_save(data, dkey='epix_lit', bins=100, norm=None,\n",
    "                  figsize=(8,5), ptype='plot', closefig=False,\n",
    "                  yscale='linear'):\n",
    "    fig = plot_data(data=data, dkey=dkey, bins=bins, norm=norm,\n",
    "                    figsize=figsize, ptype=ptype, yscale=yscale)\n",
    "    save_name = \"r{:3d}_{}_{}.png\".format(data['run'], dkey, ptype)\n",
    "    save_plot(fig, save_name)\n",
    "    if closefig:\n",
    "        plt.close(fig=fig)"
   ]
  },
  {
   "cell_type": "markdown",
   "id": "bff4393f-acd2-4291-b2a6-c3e651f7258d",
   "metadata": {},
   "source": [
    "## Create plots and histograms for all epix runs"
   ]
  },
  {
   "cell_type": "code",
   "execution_count": null,
   "id": "41d8dbf8-238f-4128-b296-2ccff10c4a73",
   "metadata": {},
   "outputs": [],
   "source": [
    "run_list = lv17data.epix_runs\n",
    "\n",
    "for run in run_list:\n",
    "    data = read_data(run=run)\n",
    "    for dkey in ['epix_lit', 'epix_sum', 'tof_abs_sum', 'gmd', 'xgmd']:\n",
    "        for ptype in ['plot', 'hist']:\n",
    "            if ptype == 'hist' and dkey not in ['gmd', 'xgmd']:\n",
    "                yscale = 'log'\n",
    "            else:\n",
    "                yscale = 'linear'\n",
    "            plot_and_save(data, dkey=dkey, ptype=ptype, closefig=True,\n",
    "                          yscale=yscale)"
   ]
  }
 ],
 "metadata": {
  "kernelspec": {
   "display_name": "LCLS-II py3",
   "language": "python",
   "name": "ana2-current"
  },
  "language_info": {
   "codemirror_mode": {
    "name": "ipython",
    "version": 3
   },
   "file_extension": ".py",
   "mimetype": "text/x-python",
   "name": "python",
   "nbconvert_exporter": "python",
   "pygments_lexer": "ipython3",
   "version": "3.7.12"
  }
 },
 "nbformat": 4,
 "nbformat_minor": 5
}
